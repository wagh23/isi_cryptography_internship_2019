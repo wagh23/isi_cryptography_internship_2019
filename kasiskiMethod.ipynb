{
  "nbformat": 4,
  "nbformat_minor": 0,
  "metadata": {
    "colab": {
      "provenance": [],
      "include_colab_link": true
    },
    "kernelspec": {
      "name": "python3",
      "display_name": "Python 3"
    },
    "language_info": {
      "name": "python"
    }
  },
  "cells": [
    {
      "cell_type": "markdown",
      "metadata": {
        "id": "view-in-github",
        "colab_type": "text"
      },
      "source": [
        "<a href=\"https://colab.research.google.com/github/wagh23/isi_cryptography_internship_2019/blob/first/kasiskiMethod.ipynb\" target=\"_parent\"><img src=\"https://colab.research.google.com/assets/colab-badge.svg\" alt=\"Open In Colab\"/></a>"
      ]
    },
    {
      "cell_type": "markdown",
      "source": [
        "# Cryptanalysis of Vigenere Cipher\n",
        "\n",
        "The following is the cryptanalysis of the ciphertext encrypted uses the vigenere cipher given in this [problem statement](https://www2.isical.ac.in/~rcbose/internship/problems2019.pdf), using the Kasiski Method\n",
        "\n",
        "\n"
      ],
      "metadata": {
        "id": "goEnrk5eS4hY"
      }
    },
    {
      "cell_type": "code",
      "source": [
        "from collections import Counter\n",
        "import string\n",
        "import nltk\n",
        "from nltk.corpus import words\n",
        "from nltk.tokenize import word_tokenize\n",
        "import re\n",
        "from collections import defaultdict\n",
        "\n",
        "\n",
        "\n",
        "# Ensure the words corpus is downloaded\n",
        "nltk.download('words')\n",
        "nltk.download('punkt')\n"
      ],
      "metadata": {
        "id": "4Kr3Pb2oVWz0",
        "colab": {
          "base_uri": "https://localhost:8080/"
        },
        "outputId": "8b7913de-5969-4e17-9035-145e7ac1f119"
      },
      "execution_count": null,
      "outputs": [
        {
          "output_type": "stream",
          "name": "stderr",
          "text": [
            "[nltk_data] Downloading package words to /root/nltk_data...\n",
            "[nltk_data]   Unzipping corpora/words.zip.\n",
            "[nltk_data] Downloading package punkt to /root/nltk_data...\n",
            "[nltk_data]   Unzipping tokenizers/punkt.zip.\n"
          ]
        },
        {
          "output_type": "execute_result",
          "data": {
            "text/plain": [
              "True"
            ]
          },
          "metadata": {},
          "execution_count": 1
        }
      ]
    },
    {
      "cell_type": "markdown",
      "source": [
        "#Guessing Keyword Length"
      ],
      "metadata": {
        "id": "rMPws9FgXhPU"
      }
    },
    {
      "cell_type": "markdown",
      "source": [
        "We will first find out the trigrams and their distances, and since for such a large ciphertext there maybe accidental coincidences resulting in substring pairs that are the same but the plaintext or key substring isn't. For this reason we consider keylengths up to 20 and see how many distances a specific possible keylength is a factor of.\n"
      ],
      "metadata": {
        "id": "A4ArSGP1WvJa"
      }
    },
    {
      "cell_type": "code",
      "execution_count": null,
      "metadata": {
        "colab": {
          "base_uri": "https://localhost:8080/"
        },
        "id": "Yf4skE0iSu2l",
        "outputId": "11b6fd94-2643-42c9-bf68-46e98fe8ba3d"
      },
      "outputs": [
        {
          "output_type": "stream",
          "name": "stdout",
          "text": [
            "Trigram Distances: [2388, 3552, 3600, 832, 2674, 1328, 105, 3701, 1504, 3936, 888, 3561, 3856, 1062, 2487, 1255, 376, 32, 872, 1384, 3008, 56, 3584, 3638, 281, 216, 2496, 1352, 744, 2600, 1016, 528, 488, 1016, 3304, 3432, 1856, 1576, 704, 4432, 13, 3456, 2289, 912, 568, 2344, 3456, 3456, 648, 3208, 4296, 80, 4376, 496, 544, 208, 24, 264, 64, 328, 848, 680, 192, 16, 256, 72, 392, 1040, 1991, 1848, 904, 72, 336, 632, 160, 920, 280, 736, 240, 176, 160, 632, 160, 1064, 136, 112, 320, 536, 726, 952, 3008, 3432, 1624, 2624, 1464, 16, 304, 216, 1144, 48, 512, 112, 480, 216, 424, 616, 24, 4079, 2991, 73, 448, 2816, 2816, 1016, 4264, 1042, 2128, 157, 1992, 2294, 904, 4084, 2936, 1544, 1053, 1579, 49, 232, 1400, 1192, 1352, 232, 1400, 1192, 1352, 232, 718, 3032, 1251, 2408, 1344, 703, 1033, 80, 896, 368, 1224, 512, 64, 456, 576, 446, 200, 2424, 210, 3872, 1984, 825, 1063, 120, 256, 72, 1016, 112, 408, 104, 16, 1016, 264, 208, 280, 80, 2952, 2945, 872, 104, 336, 984, 1684, 976, 57, 3698, 3104, 3024, 2496, 1368, 3710, 1464, 968, 1288, 1016, 2664, 1104, 280, 136, 1464, 520, 176, 336, 264, 3680, 1816, 2424, 4045, 1280, 384, 258, 2744, 480, 688, 3224, 3224, 3913, 3410, 320, 175, 1585, 3207, 425, 391, 832, 440, 232, 2440, 280, 80, 224, 520, 216, 224, 120, 560, 304, 1808, 64, 88, 56, 4120, 4120, 896, 2648, 304, 896, 2952, 752, 3176, 4216, 4216, 1368, 1368, 404, 964, 668, 36, 1648, 2544, 1648, 680, 304, 3286, 1514, 1154, 360, 326, 1514, 824, 2256, 3112, 2456, 808, 1456, 1808, 2688, 1200, 1032, 170, 1134, 2736, 4096, 1656, 784, 3392, 509, 3536, 480, 1216, 1296, 310, 2024, 1656, 368, 2024, 1776, 45, 608, 2586, 584, 2610, 2272, 1179, 1093, 2272, 2500, 1068, 959, 977, 216, 216, 144, 3831, 240, 912, 248, 2640, 40, 16, 1631, 920, 3256, 1208, 688, 835, 3208, 1976, 128, 1776, 414, 2720, 760, 3832, 112, 3304, 112, 344, 136, 424, 2400, 2684, 607, 120, 681, 992, 2143, 2560, 3088, 56, 56, 1492, 3936, 1844, 2092, 8, 1296, 201, 623, 80, 184, 216, 368, 240, 128, 264, 184, 16, 104, 24, 2976, 2176, 1600, 1110, 1054, 2120, 34, 55, 1241, 3384, 3951, 2104, 3176, 656, 1512, 53, 2926, 2120, 2969, 975, 600, 1752, 480, 472, 264, 56, 32, 264, 3088, 456, 60, 1424, 3952, 3136, 1872, 1112, 184, 128, 1424, 1045, 377, 3008, 1233, 3068, 892, 1387, 1608, 73, 892, 3304, 3304, 3304, 1974, 1160, 128, 1224, 1046, 680, 184, 128, 1200, 1736, 1726, 2032, 2408, 849, 80, 80, 2072, 701, 1040, 392, 1720, 2628, 3144, 3144, 185, 1624, 2600, 248, 1536, 1536, 1864, 1392, 1920, 1392, 1920, 1192, 908, 884, 904, 1237, 1125, 3800, 448, 1056, 333, 19, 1704, 112, 472, 184, 2526, 904, 728, 112, 752, 56, 680, 680, 1788, 3081, 1956, 1976, 1976, 2249, 1928, 1928, 2813, 2505, 1424, 784, 376, 2184, 576, 1016, 776, 1208, 744, 80, 48, 8, 1536, 336, 1436, 368, 2672, 1664, 880, 496, 3129, 2032, 1558, 372, 102, 464, 456, 2176, 1906, 400, 2387, 2192, 2600, 1480, 1120, 2600, 1596, 752, 360, 184, 128, 8, 1287, 624, 624, 2264, 248, 1335, 1335, 2183, 67, 1920, 2760, 1216, 632, 2512, 488, 664, 2725, 30, 541, 2400, 1329, 284, 516, 560, 1832, 560, 1912, 120, 2352, 120, 1016, 2400, 576, 99, 1662, 1376, 160, 1985, 1985, 72, 24, 696, 96, 96, 1390, 3523, 1902, 1818, 1928, 2048, 1784, 2540, 172, 136, 112, 136, 112, 136, 51, 136, 3320, 136, 136, 136, 136, 2224, 3049, 2824, 720, 720, 624, 1504, 360, 1375, 1727, 528, 264, 2112, 56, 3376, 1662, 687, 1913, 40, 40, 40, 3320, 827, 120, 2016, 432, 304, 608, 2272, 2464, 610, 856, 1582, 282, 936, 3304, 72, 336, 1712, 968, 3392, 1464, 428, 1040, 1984, 502, 70, 488, 1132, 1264, 1084, 3480, 824, 768, 768, 1856, 1793, 120, 120, 1717, 1288, 816, 456, 2112, 440, 2944, 1432, 1848, 40, 112, 369, 536, 3024, 3320, 3320, 1738, 480, 472, 264, 56, 3010, 112, 112, 32, 176, 24, 672, 208, 24, 1960, 160, 272, 212, 1874, 2272, 872, 344, 528, 80, 872, 1642, 872, 872, 464, 2657, 560, 984, 1792, 800, 992, 182, 1974, 1600, 1168, 368, 3224, 3296, 1104, 1536, 40, 234, 2536, 1178, 456, 680, 1496, 304, 254, 298, 504, 2496, 504, 1936, 128, 432, 1723, 318, 266, 1056, 1056, 2973, 1418, 1263, 2113, 400, 2432, 128, 573, 3170, 559, 2688, 408, 1544, 1168, 920, 920, 1608, 1608, 2064, 616, 832, 616, 1448, 3176, 898, 757, 337, 904, 887, 2596, 20, 1216, 480, 472, 24, 3000, 1712, 2682, 2744, 2744, 2744, 1376, 1496, 376, 2781, 2629, 1296, 1574, 992, 3024, 2840, 346, 1152, 919, 2096, 528, 2096, 528, 1448, 80, 1860, 104, 892, 1832, 2406, 240, 2256, 1952, 2704, 2736, 2509, 267, 928, 472, 2656, 29, 2505, 368, 368, 2720, 2720, 2369, 266, 440, 632, 48, 381, 907, 936, 1288, 936, 2712, 1192, 168, 986, 38, 1472, 1120, 2720, 1992, 1648, 1744, 392, 381, 1536, 688, 1576, 536, 2112, 1824, 1824, 416, 1356, 1200, 2488, 2636, 1256, 920, 904, 1808, 904, 904, 904, 904, 904, 904, 968, 2400, 1712, 416, 1176, 1216, 1176, 872, 344, 2232, 2337, 1856, 771, 64, 352, 352, 1408, 352, 352, 1644, 2616, 1320, 56, 41, 791, 2208, 2760, 1040, 1288, 855, 480, 152, 1152, 1536, 520, 161, 1736, 1824, 1824, 40, 1784, 224, 192, 1553, 757, 1438, 932, 580, 1152, 1390, 2432, 808, 2289, 2144, 688, 1496, 197, 491, 48, 125, 515, 848, 1456, 112, 568, 112, 568, 254, 984, 653, 879, 160, 1303, 1048, 1079, 1264, 1264, 456, 456, 120, 336, 2096, 2040, 2040, 2040, 288, 288, 592, 2448, 2448, 2448, 422, 2026, 1688, 2544, 1608, 1608, 336, 276, 226, 502, 2048, 196, 920, 2544, 120, 2416, 144, 88, 1912, 1912, 472, 1506, 1800, 20, 1992, 1520, 911, 433, 1304, 1444, 508, 2248, 1584, 356, 1728, 984, 984, 984, 744, 1664, 88, 88, 88, 64, 24, 856, 192, 88, 2072, 99, 56, 696, 840, 2288, 448, 40, 424, 752, 1608, 752, 1608, 624, 608, 1264, 1264, 1264, 1072, 680, 1216, 680, 1156, 60, 680, 1216, 216, 984, 1200, 920, 1590, 74, 278, 106, 104, 104, 104, 1424, 1147, 1245, 1848, 1224, 1224, 1387, 1784, 1585, 432, 1328, 149, 1504, 164, 904, 1108, 696, 696, 931, 7, 980, 239, 653, 1392, 1392, 1392, 1680, 776, 776, 368, 1352, 685, 56, 207, 1920, 800, 424, 1112, 184, 128, 2112, 1878, 1170, 808, 1588, 1920, 808, 808, 808, 904, 904, 904, 904, 904, 1728, 1464, 1174, 320, 204, 8, 734, 1510, 1376, 1376, 1376, 1376, 1376, 52, 737, 952, 952, 1048, 160, 1208, 1292, 732, 144, 872, 605, 1326, 482, 1298, 406, 24, 376, 1433, 304, 304, 1728, 1664, 984, 48, 88, 48, 88, 844, 1032, 280, 805, 1824, 496, 1008, 144, 144, 400, 1328, 472, 1501, 160, 160, 576, 576, 38, 1464, 1288, 1288, 472, 507, 1122, 816, 480, 472, 264, 176, 1224, 936, 1216, 1216, 335, 1216, 1216, 1216, 1216, 1216, 992, 1576, 1584, 1484, 614, 614, 1384, 1384, 912, 49, 1224, 1224, 1224, 1480, 264, 191, 210, 600, 344, 56, 56, 56, 56, 56, 56, 1120, 56, 56, 56, 56, 488, 56, 56, 56, 56, 56, 56, 56, 56, 56, 192, 721, 304, 304, 744, 848, 1032, 1032, 152, 152, 1152, 600, 344, 1158, 1158, 480, 884, 1091, 8, 216, 408, 352, 408, 352, 130, 172, 259, 440, 33, 407, 357, 856, 834, 104, 303, 832, 832, 832, 220, 128, 128, 128, 128, 248, 720, 352, 352, 440, 239, 352, 105, 208, 264, 472, 272, 113, 167, 16, 126, 29, 240, 28, 104, 32]\n",
            "Factor Frequencies (1 to 15):\n",
            "1: 1273\n",
            "2: 1110\n",
            "3: 412\n",
            "4: 1011\n",
            "5: 231\n",
            "6: 359\n",
            "7: 183\n",
            "8: 947\n",
            "9: 115\n",
            "10: 198\n",
            "11: 105\n",
            "12: 325\n",
            "13: 91\n",
            "14: 162\n",
            "15: 81\n",
            "16: 450\n",
            "17: 77\n",
            "18: 100\n",
            "19: 81\n",
            "20: 179\n"
          ]
        }
      ],
      "source": [
        "def factor_frequencies(distances, max_factor=20):\n",
        "    freq = {}\n",
        "    for f in range(1, max_factor + 1):\n",
        "        freq[f] = sum(1 for d in distances if d % f == 0)\n",
        "    return freq\n",
        "def get_trigram_distances(ciphertext):\n",
        "    ciphertext = ''.join(filter(str.isalpha, ciphertext.upper()))\n",
        "    trigram_positions = defaultdict(list)\n",
        "\n",
        "    # Find all trigram positions\n",
        "    for i in range(len(ciphertext) - 2):\n",
        "        trigram = ciphertext[i:i+3]\n",
        "        trigram_positions[trigram].append(i)\n",
        "\n",
        "    distances = []\n",
        "    for positions in trigram_positions.values():\n",
        "        if len(positions) > 1:\n",
        "            for i in range(1, len(positions)):\n",
        "                distances.append(positions[i] - positions[i - 1])\n",
        "\n",
        "    return distances\n",
        "def find_common_factors(distances):\n",
        "    def all_factors(n):\n",
        "        return set(f for i in range(1, int(n**0.5)+1) if n % i == 0 for f in (i, n//i))\n",
        "\n",
        "    common_factors = None\n",
        "    for d in distances:\n",
        "        factors = all_factors(d)\n",
        "        if common_factors is None:\n",
        "            common_factors = factors\n",
        "        else:\n",
        "            common_factors &= factors\n",
        "\n",
        "    return sorted(common_factors) if common_factors else []\n",
        "\n",
        "# Example usage after getting distances\n",
        "ciphertext = \"FBHJLZINOHBYTYCNCZLUYZUFIGDMZMYKVQDSPUEFJIGJPOQUFQDRJQJNTVDREXXJEOQGDUUWFWGOXQQHKJLUWFDYCMFRZTUIKVHHZPATEHKKLHUTWRLTZTQZIGEOCEIFISWNPPDQPAHSMFHXFTWNPEYSFTDSTMOYISHZSBJXLFYOGFTYYSRXOFQQRBGZSFEUVBQONIUXCSIZMFXNERJGGFJMVADTOPKWVOURJNQRDOOGYDUXKCUYEIUNIHLSPJDYYSHIZMELZQDRDQEYCWJNECKYNVDZTGSFCOPOEZXFUBWHPGQQCSQZSFTNECVGFSIBFIOJEIUDJHLRWIQAVURTPPKYECWCTUXFSOQMMVJFNVLSAFHRRMEKYPJFTQRXOJDLKCDTPXIYLRBZSBJXRMVJTOEXRIUYDUYQCVDJAMUSKMRLGJCFERYORPHQVOGOYHKUKCWNPNQXJSAZTOSYZCQGEUXJVBGUQUXJTFHZLDUTLGSKCJEIISYKLMUILGLTRIKLVGLSFMQYZCQYEIQYRFHTPXJTGOOKZOJTCCJEEIUKZBGOYHCFIYVZSFBFKSVZEVHSZBDJPCQYVCYKCXXJKVHXOJDTJOXXDXUWVOOXPBTDZBWKCNYSRZGKNMYSVPBZSFJNDSGUZNIIRMVZCVSPZBDJOJJNFBWNPTJZUMVIFUJNEUHJRFQUGFRGNISTLZGNPMFZJPHZEFHQFCNHLDAFKDDYEFDAZFRTXFDYRZWACNENCOQJWFQWEWQLTOUWUSWGTMMMRHZKXJWMKSAVPDJKICPSZEUWEQOOXBJJTVDTRFVTIAHGYEVTIOOUEPVUVCSRPUXFKKLYSUXNJHKKEFQRYOVKYEUIWCUSPBTJTWVOZOCFUSLZDFURVRDYTGXJYOGHPFDUCOBOYHMNKVXYLMBMZGOOQFYKVSOYZSHDWCUZSPIJNVRCLOJYFQRSAFJJWCUSPTINJHKXZOUNKGLSAPIXZPOKEIYXBWGODVDNHIHSPTINZGDTLMYJEHKGEEUIZQDZPTXNDGHRQUEUCOBOYHMNKVKAXBDXZVDBPGKSCWNKLDXNCRLTEIUXKFHKEXXJEHKKOBOHFAHYHIUSZAQUEFDOFMLTRJJNNWORWFQAVTRUECQQCAHYDJYXKVHHPTJUCOBKCJDYYSZUCMTGPGRSPEYXKOQIPIUXCWNKLQBFPGWGEJESYSFGYUQPVOGBLOJFXSRLPWUWPALYEBAJNSPGVFJMRHLYXFQSUAHYDJMJISUORIJZGHKKCFQGJCOAEFBDCSWSPFCGIOFKEIUJJCXXLELJIGLZJGEWNWVKXFDXRMLZTTJMVKLYPTJHFIUYPJWSFFDTNFYXKVHIFSIJFTJUOLDTNZHJRFYXKVHCTOWBYSUKHJJMNSIRJUEMVOYKYUXNJZLLPXXNTVKGOCUJEHKKEPCGFTKODWYWKIHGYEEKYWVNZOEZIWVHFUQBRZNOYHIMRRRCLQETIDOGJFHYYOWYESKYJOQJQSUYJVLYSPKWLDRTEIUXKOJKLOTYYSQODIUFIRQUXPHJZHLYLUQQVHRROCOFEWGOZUVZCZRLDPKSUOQJQVHDJWJTTGONEUQUEIYSXOIZPSJMVPLMMBDLZHZGDDEQUOQJMMQHBOQJEIUSKVHXPXQXCWJNEOEBWCUZSFVNIGWZTNUFJHUUYPCJIGKGGFWQZASYPEJMRHGGHOEKKVHAYJLJIGHZSJHYVSQHTMBNFBBKLSIFXCZNPOJMVSDXWJUXKGWGCTMJISWACOYSXCQZSFBNXVWOYUXJTCVSTDTFIYQKDTQSUWIZSBJNJBRZPOEZXVWNPZCFPVDBPEUYVQWKONOXKSUOZVIIRFNSLUJJIOWCZSAYFCWNPHBNDDVKNPDXZGWKOPVFWOLTESQIZCVOROQQWFRSOFUUJDDIPQYHBSGAACOFEOQZPODFKVDZTTIQZUKZWZRNXUHXEIQSRFHLCJWJIOWUCBDITCVZDMUXJHKGYGYAVALRWJESSIWOYDUWKOLTHBOXTOQMZCQHBAXISGQWKVHXTOJNDSDTOEYXKOQIPUXFEHKKNFBJSFDZPECZCHLHTMBNFBGUWMQWYIEHWFIURQHZPMUXTCSKUVTISCZSLOEKRFLFZOQXKOWKFOYAVFVOEZBJRRDAEIEWFTDYEVTDZBMUFSDFCBDZFSUXRWGZSFINXBDRNBCJWFRSEIUAVFBLTSIYFPMKNUINEHKKFOYAVFVKLTYYNOVKXFHLZBJUFUEKUOUQYFIXKKRNFOTWVRPOWMYTEMHGCTQKKSUZSFRNXPDTRTUJZBJZSFKSZJHXDFZZJHOORIJNEUXVPWUSKVRARIYYNOVUYMOFWOLTETYLEOOODFLJEARXPJCUFFWGYUJMRBWNPCYLSOQMMFSFLGHCPBHJDOGKZGIYRFVZFGVFERVUHFQWVUOOXQINEUDZZVHTIWJOYTQNUOVZCPDTDSUXTDXFIRHRWJIBYCZGDOEYZBYUWWUIZBWNPQHTASFZEIUXZUQGWTXTNSGAYFNUVQWKOMOHFZGZPNFJIOWACFIFERDTFOKXLOORJQHTECXTNFTBRJHCSFDFJHUUYPCJIGWXTFTYFTLMFSUTLHZNJUXJSSVZPYFQRBDZTPDBRGWNLUUQLGLBPEQWBADZEFHRRMKGGFRJVBDZHPHPZTYKCJVNVRWNLUMTLZGHPUXJWWUYEDESWWUSLUYTECIOETANERRLOBHPDOWZPSMMZQKODBIZSGWGYUYFCDDXEPVYYSXTTWUWJSWNLUIHZSQZTTJXYOYKMFUSJSDXNIYSXTRXZWUWUSFGOFINWQRTQJHRVRWNTTTNJQRBPSOIVGHXGFIYNCQUMFBUIWCKDGEWSCWNNBFYLFLTRUXJJWJTLMEKKVHLTSIYJHDXDBDIGCWKYUYFCRDXVNQYKSUIZOVNIADZTPDXRWGNLSLFIRDYESESFAHXLWYQFSECSPMFJBRZABHYFTWNPSUXVOUISUUFDQDAEJESZBJZSBJJOHUGZSTNEOUENMQNDGUKBVYWVSAZCBEWUWQGCZUAZRHTNFXJJOLJTOTJGSQJPOJYVGWYLSUSVSGKOUEAVFLLJUXJWWQJTOWXSCZSLOQLISHJTOTJGSQJPOJYVGWYLSUSVSGKOFLJEHKUFHXMZGWKLNIUVBWZHPOJRFVJZVRQVOQJESYUCSFNPDANEUWNPJHBFFNOEJIFKWPKZGJMVIQOGFHXVKHXPBBQPRRTZUASFKDTJUXNEUDHZVJGFKPGYTQNUVHYLJTYYSGODDEAVFBODMYPVHKKQJHXKGHTEFDHVWQGYFQWCMFNLQJJICIZSFXNJHRXJPVYYSFUDNEXKVLYTTDTKVLTRUXFKOVZCPDTDSUYNPKQUOFZFBBQPGHKTOVFTHLZTTQQCWQJTSUHKPDYPEESTVDTRFINEHKKHBLJCSQMEIIUICGANFTGPFDJTPINXBDRDUXJVOURJVDNMSUYPXQXUOUQLOTHFZGLTMBJUKLZSKKXKVBJCPWJEOQJSFBNLARTNFIYRFVLZSCJUHKKJFCNKHHJFMJWRJLUWFJQZUKZTOJTKVHJLSAFISDYMFJBVSQZSFCYYOWAWUHFMWRRPUBNXVWISBDLVGWNPFDJIUBYTHDFKIUKZGXDUFRMPOQYFAVHZXCFEGDOOBIYICQUXFHXCCRQPEQYRGSKNJVNTKDBPMUSXHKOQUXJISZKCFIYRFVGYEKQKFDBTPBJKZLMSUJMVMZUFMTXVSRTPTYLEOWACFYKKVHXPXUWVBRYEBHXKVHEHPKQUGHKLOEYYSUZSFOXRKDIWFQWSIWLLJDYJWJTLMIMFKLTRUXJISZKCFIYRFVVCPRFSZBSLOOTWHKKXCEBDOQYLJTKZBGOYHJMRHWXLDUXZUQGWXQXECWKLTOGVQDADFJMVALRVZMFPUDRLYOFCCQKMPERJKLZSSQIZCZGGFDTZGHZPOJMFIVGYEJNDSVRZVTJIGDOOQUYVFNACDPDEGNOLELFEQHJASELIOPZPDXSFZRMJEYWVQWUCGEWKVHTLUYTEOOYNJUSTSIUFOTFKWRTHIYHYVHRAFTKLBGZSFHJJSDXNIVNERLTRUXJZASGNUEKKVHLTSIYJHDXDJDYYOWILDEUYCQEHPKQUPHRTLUYIMLTRUEMVOUZSFVQRDRLLIKRDWQMMJHIJKLTRGHTDWQYTEUFYIUXTDQSVYXXNAOSJYLYLJTNEOQTDGLNUSRHPDQZJSWNPIYLYSQJZGJMVTUKBVUSTMWNPZMJISOUZLYSXWQODUXJJOPKLTVRIOGOZUXJRGWXZOERVFVNLEJTXCWUEIUFLGWXLMYFERHYPSJYFSVILQUNEHHXQFHJEQHZSBJBRGZNPSUYYSBOYTJFCZHJEIUNIOQZPODFJHKKJUXJEZDHZSUIKCFUYGYWDKKGEUXJPTRAYEYSGOUZMZJJJHLTRJJFXOLTDUTZDABYTHDFCGLTEIUQRPDTOJJFCZVNZXUIKVDZHIQYKVHEDQEYKSGCLTJMVSAODUUSTSRLEIUKZFVZDUQWJPRCXBDXRWG\"\n",
        "distances = get_trigram_distances(ciphertext)\n",
        "freqs = factor_frequencies(distances)\n",
        "\n",
        "print(\"Trigram Distances:\", distances)\n",
        "print(\"Factor Frequencies (1 to 15):\")\n",
        "for factor, count in freqs.items():\n",
        "    print(f\"{factor}: {count}\")\n",
        "# print(len(ciphertext))"
      ]
    },
    {
      "cell_type": "markdown",
      "source": [
        "It is evident that the keylength is likely 4 or 8 (note that 16 is also a very common factor)\n",
        "\n",
        "To be sure we will find out the Indices of Conicidence for numbers up to 15 (since there is a decline in factor frequency)"
      ],
      "metadata": {
        "id": "-H-tnbtFXlsE"
      }
    },
    {
      "cell_type": "code",
      "source": [
        "def index_of_coincidence(text):\n",
        "    N = len(text)\n",
        "    if N <= 1:\n",
        "        return 0.0\n",
        "    freq = [text.count(chr(i)) for i in range(ord('A'), ord('Z') + 1)]\n",
        "    ic = sum(f * (f - 1) for f in freq) / (N * (N - 1)) #formula for I_c\n",
        "    return ic\n",
        "\n",
        "def average_ic_for_keylength(ciphertext, keylength):\n",
        "    ciphertext = ''.join(filter(str.isalpha, ciphertext.upper()))\n",
        "    substrings = ['' for _ in range(keylength)]\n",
        "\n",
        "    for i, char in enumerate(ciphertext):\n",
        "        substrings[i % keylength] += char\n",
        "\n",
        "    ic_values = [index_of_coincidence(sub) for sub in substrings]\n",
        "    avg_ic = sum(ic_values) / keylength\n",
        "    return avg_ic\n",
        "\n",
        "def run_ic_scan(ciphertext, max_keylength=15):\n",
        "    ciphertext = ''.join(filter(str.isalpha, ciphertext.upper()))\n",
        "    print(\"Key Length | Avg Index of Coincidence\")\n",
        "    print(\"-------------------------------------\")\n",
        "    for keylen in range(1, max_keylength + 1):\n",
        "        ic = average_ic_for_keylength(ciphertext, keylen)\n",
        "        print(f\"{keylen:10} | {ic:.4f}\")\n",
        "\n",
        "# Example usage\n",
        "run_ic_scan(ciphertext)\n"
      ],
      "metadata": {
        "id": "TiJ3jPpDUkso",
        "colab": {
          "base_uri": "https://localhost:8080/"
        },
        "outputId": "78d0ddb8-c7c2-4353-b03d-25b45bc536fe"
      },
      "execution_count": null,
      "outputs": [
        {
          "output_type": "stream",
          "name": "stdout",
          "text": [
            "Key Length | Avg Index of Coincidence\n",
            "-------------------------------------\n",
            "         1 | 0.0405\n",
            "         2 | 0.0449\n",
            "         3 | 0.0404\n",
            "         4 | 0.0538\n",
            "         5 | 0.0404\n",
            "         6 | 0.0448\n",
            "         7 | 0.0402\n",
            "         8 | 0.0662\n",
            "         9 | 0.0402\n",
            "        10 | 0.0450\n",
            "        11 | 0.0403\n",
            "        12 | 0.0537\n",
            "        13 | 0.0404\n",
            "        14 | 0.0444\n",
            "        15 | 0.0405\n"
          ]
        }
      ]
    },
    {
      "cell_type": "markdown",
      "source": [
        "It is clear that 8 is probably our keword length"
      ],
      "metadata": {
        "id": "u1SN93ILYTtd"
      }
    },
    {
      "cell_type": "markdown",
      "source": [
        "# Frequency Analysis"
      ],
      "metadata": {
        "id": "LMyeVQgFYZb1"
      }
    },
    {
      "cell_type": "code",
      "source": [
        "\n",
        "# English letter frequency in percentage (from most to least common)\n",
        "ENGLISH_FREQ = {\n",
        "    'E': 12.7, 'T': 9.1, 'A': 8.2, 'O': 7.5, 'I': 7.0,\n",
        "    'N': 6.7, 'S': 6.3, 'H': 6.1, 'R': 6.0, 'D': 4.3,\n",
        "    'L': 4.0, 'C': 2.8, 'U': 2.8, 'M': 2.4, 'W': 2.4,\n",
        "    'F': 2.2, 'G': 2.0, 'Y': 2.0, 'P': 1.9, 'B': 1.5,\n",
        "    'V': 1.0, 'K': 0.8, 'J': 0.15, 'X': 0.15, 'Q': 0.1, 'Z': 0.07\n",
        "}\n",
        "\n",
        "def get_letter_frequencies(text):\n",
        "    counter = Counter(text)\n",
        "    total = sum(counter.values())\n",
        "    return {char: (counter[char] / total) * 100 for char in string.ascii_uppercase}\n",
        "\n",
        "def shift_text(text, shift):\n",
        "    return ''.join(chr((ord(c) - ord('A') - shift) % 26 + ord('A')) for c in text)\n",
        "\n",
        "def chi_squared_score(text_freq):\n",
        "    return sum(\n",
        "        ((text_freq.get(ch, 0) - ENGLISH_FREQ[ch]) ** 2) / ENGLISH_FREQ[ch]\n",
        "        for ch in ENGLISH_FREQ\n",
        "    )\n",
        "\n",
        "def analyze_key_length(ciphertext, key_len):\n",
        "    ciphertext = ''.join(filter(str.isalpha, ciphertext.upper()))\n",
        "    groups = ['' for _ in range(key_len)]\n",
        "\n",
        "    # Split ciphertext into key_len groups\n",
        "    for i, char in enumerate(ciphertext):\n",
        "        groups[i % key_len] += char\n",
        "\n",
        "    key = ''\n",
        "    for i, group in enumerate(groups):\n",
        "        min_chi = float('inf')\n",
        "        best_shift = None\n",
        "        for shift in range(26):\n",
        "            shifted = shift_text(group, shift)\n",
        "            freq = get_letter_frequencies(shifted)\n",
        "            chi = chi_squared_score(freq)\n",
        "            if chi < min_chi:\n",
        "                min_chi = chi\n",
        "                best_shift = shift\n",
        "        key_letter = chr((best_shift % 26) + ord('A'))\n",
        "        key += key_letter\n",
        "        print(f\"Group {i+1}: Best shift = {best_shift}, Key letter = {key_letter}\")\n",
        "    print(f\"\\n Estimated key: {key}\")\n",
        "\n",
        "# Example usage\n",
        "key_length = 8\n",
        "analyze_key_length(ciphertext, key_length)\n"
      ],
      "metadata": {
        "id": "zrj4TIhhVEVr",
        "colab": {
          "base_uri": "https://localhost:8080/"
        },
        "outputId": "38691321-4af8-4c0a-b87b-3fbd6e50161d"
      },
      "execution_count": null,
      "outputs": [
        {
          "output_type": "stream",
          "name": "stdout",
          "text": [
            "Group 1: Best shift = 17, Key letter = R\n",
            "Group 2: Best shift = 14, Key letter = O\n",
            "Group 3: Best shift = 3, Key letter = D\n",
            "Group 4: Best shift = 6, Key letter = G\n",
            "Group 5: Best shift = 11, Key letter = L\n",
            "Group 6: Best shift = 1, Key letter = B\n",
            "Group 7: Best shift = 16, Key letter = Q\n",
            "Group 8: Best shift = 5, Key letter = F\n",
            "\n",
            " Estimated key: RODGLBQF\n"
          ]
        }
      ]
    },
    {
      "cell_type": "markdown",
      "source": [
        "# Decryption"
      ],
      "metadata": {
        "id": "oXTB8WtrYdX4"
      }
    },
    {
      "cell_type": "code",
      "source": [
        "def vigenere_decrypt(ciphertext, key):\n",
        "    ciphertext = ''.join(filter(str.isalpha, ciphertext.upper()))\n",
        "    key = key.upper()\n",
        "    key_len = len(key)\n",
        "\n",
        "    decrypted = ''\n",
        "    for i, char in enumerate(ciphertext):\n",
        "        shift = ord(key[i % key_len]) - ord('A')\n",
        "        decrypted_char = chr((ord(char) - ord('A') - shift) % 26 + ord('A'))\n",
        "        decrypted += decrypted_char\n",
        "\n",
        "    return decrypted\n",
        "\n",
        "# Example usage:\n",
        "key = \"RODGLBQF\"\n",
        "plaintext = vigenere_decrypt(ciphertext, key)\n",
        "print(plaintext)"
      ],
      "metadata": {
        "id": "8UnYjIchVKsh",
        "colab": {
          "base_uri": "https://localhost:8080/"
        },
        "outputId": "1f851225-65e9-4aa6-f3fe-05bbcb195e08"
      },
      "execution_count": null,
      "outputs": [
        {
          "output_type": "stream",
          "name": "stdout",
          "text": [
            "ONEDAYSIXTYSIXMILLIONYEARSAGOLIFECAMETOASUDDENAPOCALYPTICHALTWHENANASTEROIDIMPACTVIOLENTLYCLOSEDTHEBOOKONTHEAGEOFDINOSAURSBIRDSARETHEONLYMEMBERSOFTHEDINOFAMILYTREETHATSURVIVEDTHEORDEALANDTHEOPENNICHESLEFTBEHINDGAVETHEMANDOUREARLYMAMMALANCESTORSTHEIRTIMEINTHEECOLOGICALSPOTLIGHTBUTWHATIFCALAMITYHADNTBEFALLENTHEDINOSAURSWOULDTHEYSTILLHAVEGONEOUTNOTWITHABANGBUTAWHIMPERMAYBENOTACCORDINGTOANEWSTUDYTHATSAYSDINOSAURSSTILLHADPLENTYOFVIMANDVIGORLEADINGUPTOTHEMASSEXTINCTIONATTHEENDOFTHECRETACEOUSPERIODREVEALEDUSINGHUGESIMULATIONSTHATARENEWTOPALEONTOLOGYTHEFINDINGMARKSTHELATESTTURNINADEBATEOVERWHETHERDINOSAURSWEREALREADYINTERMINALDECLINEBYTHETIMEDOOMSDAYSTRUCKINADDITIONTHESTUDYSCUTTINGEDGEAPPROACHCOULDHELPUSBETTERLOOKBACKATPASTENVIRONMENTALTURMOILANDLEARNINFINERDETAILWHATWEMIGHTEXPECTFROMMODERNCLIMATECHANGEFORMEANDFORALOTOFPEOPLETHATWISHTHISTHETEAMHASENDEDFORMEADECISIONMADEITSEEMEDASIFHEHADBEENPLAYINGWITHUSALLHISLIFEIFEELSORRYFORTHOSEWHOWANTTOCOMPETEFORMESSISTHRONEITSIMPOSSIBLETHISKIDISUNIQUEMESSIISANALIENTHATDEDICATESHIMSELFTOPLAYINGWITHHUMANSIHAVEFUNLIKEACHILDINTHESTREETWHENTHEDAYCOMESWHENIMNOTENJOYINGITIWILLLEAVEFOOTBALLMESSIISTHEBESTPLAYERINTHEWORLDBYSOMEDISTANCEHESLIKEAPLAYSTATIONHECANTAKEADVANTAGEOFEVERYMISTAKEWEMAKETHATISMEANDMESSIWERERIGHTUPTHEREABSOLUTELYLETMEEMBRACETHEESOURADVERSITYFORWISEMENSAYITISTHEWISESTCOURSEIGNORANCEISTHECURSEOFGODKNOWLEDGEISTHEWINGWHEREWITHWEFLYTOHEAVENTHISLIFEWHICHHADBEENTHETOMBOFHISVIRTUEANDOFHISHONOURISBUTAWALKINGSHADOWAPOORPLAYERTHATSTRUTSANDFRETSHISHOURUPONTHESTAGEANDTHENISHEARDNOMOREITISATALETOLDBYANIDIOTFULLOFSOUNDANDFURYSIGNIFYINGNOTHINGAFTERTHEBIGBANGITWASCOLDANDBLACKANDTHENTHEREWASLIGHTNOWFORTHEFIRSTTIMEASTRONOMERSHAVEGLIMPSEDTHATDAWNOFTHEUNIVERSETHIRTEENBILLIONYEARSAGOWHENTHEEARLIESTSTARSWERETURNINGONTHELIGHTINTHECOSMICDARKNESSANDIFTHATISNOTENOUGHTHEYMAYHAVEDETECTEDMYSTERIOUSDARKMATTERATWORKTOOTHEGLIMPSECONSISTEDOFAFAINTRADIOSIGNALFROMDEEPSPACEPICKEDUPBYANANTENNATHATISSLIGHTLYBIGGERTHANAREFRIGERATORANDCOSTSLESSTHANFIVEMILLIONBUTINCERTAINWAYSCANGOBACKMUCHFARTHERINTIMEANDDISTANCETHANTHECELEBRATEDMULTIBILLIONDOLLARHUBBLESPACETELESCOPEJUDDBOWMANOFARIZONASTATEUNIVERSITYLEADAUTHOROFASTUDYINJOURNALNATURESAIDTHESIGNALCAMEFROMTHEVERYFIRSTOBJECTSINTHEUNIVERSEASITWASEMERGINGOUTOFDARKNESSTWOHUNDREDMILLIONYEARSAFTERTHEBIGBANGSEEINGTHEUNIVERSEJUSTLIGHTINGUPEVENTHOUGHITWASONLYAFAINTSIGNALISEVENMOREIMPORTANTTHANTHEBIGBANGBECAUSEWEAREMADEOFSTARSTUFFANDSOWEAREGLIMPSINGATOURORIGINSAIDASTRONOMERRICHARDELLISWHOWASNOTINVOLVEDINTHEPROJECTTHESIGNALSHOWEDUNEXPECTEDLYCOLDTEMPERATURESANDANUNUSUALLYPRONOUNCEDWAVEWHENASTRONOMERSTRIEDTOFIGUREOUTWHYTHEBESTEXPLANATIONWASTHATELUSIVEDARKMATTERMAYHAVEBEENATWORKIFVERIFIEDTHATWOULDBETHEFIRSTCONFIRMATIONOFITSKINDOFDARKMATTERWHICHISASUBSTANTIALPARTOFTHEUNIVERSETHATSCIENTISTSHAVEBEENSEARCHINGFOROVERDECADESIFCONFIRMEDTHISDISCOVERYDESERVESTWONOBELPRIZESFORBOTHCAPTURINGTHESIGNALOFTHEFIRSTSTARSANDPOTENTIALDARKMATTERCONFIRMATIONSAIDHARVARDASTRONOMERAVILOEBWHOWASNOTPARTOFTHERESEARCHTEAMCAUTIONINGTHATEXTRAORDINARYCLAIMSREQUIREEXTRAORDINARYEVIDENCEHESAIDINDEPENDENTTESTSARENEEDEDTOVERIFYTHEFINDINGSBOWMANAGREEDINDEPENDENTTESTSARENEEDEDEVENTHOUGHHISTEAMSPENTTWOYEARSDOUBLEANDTRIPLECHECKINGTHEIRWORKITISATIMEOFTHEUNIVERSEWEREALLYDONOTKNOWANYTHINGABOUTBOWMANSAIDHESAIDTHEDISCOVERYISLIKETHEFIRSTSENTENCEINANEARLYCHAPTEROFTHEHISTORYOFTHECOSMOSTHISISNOTHINGTHATASTRONOMERSCOULDACTUALLYSEEINFACTITISALLINDIRECTBASEDONCHANGESINTHEWAVELENGTHSPRODUCEDBYRADIOSIGNALSTHEEARLYUNIVERSEWASDARKANDCOLDFILLEDWITHJUSTHYDROGENANDHELIUMONCESTARSFORMEDTHEYEMITTEDULTRAVIOLETLIGHTINTOTHEDARKAREASBETWEENTHEMTHATULTRAVIOLETLIGHTCHANGESTHEENERGYSIGNATUREOFHYDROGENATOMSBOWMANSAIDASTRONOMERSLOOKEDATASPECIFICWAVELENGTHIFTHEREWERESTARSANDULTRAVIOLETLIGHTTHEYWOULDSEEONESIGNATUREIFTHEREWERENOSTARSTHEYWOULDSEEANOTHERTHEYSAWACLEARBUTFAINTSIGNALSHOWINGTHEREWERESTARSPROBABLYMANYOFTHEMBOWMANSAIDFINDINGTHATTRACESIGNALWASNOTEASYBECAUSETHEMILKYWAYGALAXYALONEBOOMSWITHRADIOWAVENOISETENTHOUSANDTIMESLOUDERSAIDPETERKURCZYNSKIADVANCEDPROGRAMTECHNOLOGYDIRECTORFORTHENATIONALSCIENCEFOUNDATIONWHICHHELPEDFUNDTHERESEARCHFINDINGTHEIMPACTOFTHEFIRSTSTARSINTHATCACOPHONYWOULDBELIKETRYINGTOHEARTHEFLAPOFAHUMMINGBIRDSWINGFROMINSIDEAHURRICANEKURCZYNSKISAIDINANNSFVIDEOBECAUSETHEHIGHENDOFTHEFREQUENCYTHEYWERELOOKINGINISTHESAMEASFMRADIOTHEASTRONOMERSHADTOGOTOTHEAUSTRALIANDESERTTOESCAPEINTERFERENCETHATWASWHERETHEYINSTALLEDTHEIRANTENNASTHEYTHENLABOREDTOCONFIRMWHATTHEYFOUNDINPARTBYTESTINGITAGAINSTDUMMYSIGNALSINTHELABANDITALLSHOWEDTHATWHATTHEYSPOTTEDWASTHEEXISTENCEOFTHEFIRSTSTARSBOWMANSAID\n"
          ]
        }
      ]
    },
    {
      "cell_type": "markdown",
      "source": [
        "# Attempt at adding whitespace"
      ],
      "metadata": {
        "id": "wkRER9hfYfL6"
      }
    },
    {
      "cell_type": "code",
      "source": [
        "#Load English words\n",
        "word_list = set(words.words())\n",
        "text = plaintext\n",
        "\n",
        "# Simple dynamic programming word breaker\n",
        "def word_break(text, word_dict):\n",
        "    n = len(text)\n",
        "    dp = [None] * (n + 1)\n",
        "    dp[0] = []\n",
        "\n",
        "    for i in range(1, n + 1):\n",
        "        for j in range(i):\n",
        "            if dp[j] is not None and text[j:i].lower() in word_dict:\n",
        "                dp[i] = dp[j] + [text[j:i]]\n",
        "                break\n",
        "    return dp[n]\n",
        "\n",
        "# Try to reconstruct the text with spacing\n",
        "broken_text = word_break(text, word_list)\n",
        "\n",
        "# Join into a string\n",
        "if broken_text:\n",
        "    spaced_text = ' '.join(broken_text)\n",
        "else:\n",
        "    spaced_text = \"Could not segment text properly.\"\n",
        "\n",
        "spaced_text[:1000]  # Show a preview\n"
      ],
      "metadata": {
        "id": "Z_Vp4H8xVkh-",
        "colab": {
          "base_uri": "https://localhost:8080/",
          "height": 125
        },
        "outputId": "2283fb7d-56f2-466e-8a48-a0f2ef7d18a8"
      },
      "execution_count": null,
      "outputs": [
        {
          "output_type": "execute_result",
          "data": {
            "text/plain": [
              "'ONE DAY SIXTY SIX MILLION YEAR SAGO LIFE CAME TO ASUDDEN APOCALYPTIC HALT W HE NAN ASTEROID IMPACT VIOLENTLY CLOSED THE BOO KON THE AGE OF DINOSAUR S BIRD SA RETHE ONLY MEM B ERS OF THE DI NO FAMILY TREE THAT SURVIVE D THE OR DE ALAND THE OPEN N ICH ES LEFT BEHIND GAVE THE MAN DOUR EARLY MAMMAL ANCESTOR S THEIR TI MEIN THE ECOLOGICAL SPOTLIGHT BUT WHAT IF CALAMITY HAD N T BE FALLEN THE DINOSAUR S WOULD THEY STILL HAVE GONE OUT NOT WI THA BANG B UTA WHIMPER MAYBE NOT ACCORDING TO ANEW STUDY THAT SAY S DINOSAUR S STILL HAD PLENTY OF V I MAND VIGOR LEADIN GUP TO THE MASS EXTINCT IO NAT THE END OF THE CRETACEOUS PERIOD REVEALED U SING HUGE SI M ULA TI ONS THA TA RENEW TO PALEONTOLOGY THE FINDING MARK S THE LATEST TUR NI NA DEBATE OVER WHETHER DINOSAUR S WE REAL READ YIN TERMINAL DECLINE BY THE TIME DOOMSDAY ST R U C KIN ADDITION THE STUDY S CUTTING EDGE APPROACH COULD H EL PUS BETTER LOOK BAC KAT PAST ENVIRONMENTAL TUR MO I LAND LEARN IN FINER DETAIL WHAT WE MIGHT EXPECT FROM MODERN CLIMAT'"
            ],
            "application/vnd.google.colaboratory.intrinsic+json": {
              "type": "string"
            }
          },
          "metadata": {},
          "execution_count": 6
        }
      ]
    }
  ]
}